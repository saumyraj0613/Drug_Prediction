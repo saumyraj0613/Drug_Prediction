{
 "cells": [
  {
   "cell_type": "code",
   "execution_count": 3,
   "metadata": {
    "scrolled": true
   },
   "outputs": [
    {
     "data": {
      "text/html": [
       "<div>\n",
       "<style scoped>\n",
       "    .dataframe tbody tr th:only-of-type {\n",
       "        vertical-align: middle;\n",
       "    }\n",
       "\n",
       "    .dataframe tbody tr th {\n",
       "        vertical-align: top;\n",
       "    }\n",
       "\n",
       "    .dataframe thead th {\n",
       "        text-align: right;\n",
       "    }\n",
       "</style>\n",
       "<table border=\"1\" class=\"dataframe\">\n",
       "  <thead>\n",
       "    <tr style=\"text-align: right;\">\n",
       "      <th></th>\n",
       "      <th>Age</th>\n",
       "      <th>Sex</th>\n",
       "      <th>BP</th>\n",
       "      <th>Cholesterol</th>\n",
       "      <th>Na_to_K</th>\n",
       "      <th>Drug</th>\n",
       "    </tr>\n",
       "  </thead>\n",
       "  <tbody>\n",
       "    <tr>\n",
       "      <td>0</td>\n",
       "      <td>56</td>\n",
       "      <td>M</td>\n",
       "      <td>HIGH</td>\n",
       "      <td>HIGH</td>\n",
       "      <td>3.4</td>\n",
       "      <td>Tenormin</td>\n",
       "    </tr>\n",
       "    <tr>\n",
       "      <td>1</td>\n",
       "      <td>12</td>\n",
       "      <td>M</td>\n",
       "      <td>HIGH</td>\n",
       "      <td>LOW</td>\n",
       "      <td>6.8</td>\n",
       "      <td>Bystolic</td>\n",
       "    </tr>\n",
       "    <tr>\n",
       "      <td>2</td>\n",
       "      <td>21</td>\n",
       "      <td>F</td>\n",
       "      <td>LOW</td>\n",
       "      <td>HIGH</td>\n",
       "      <td>4.4</td>\n",
       "      <td>Cozaar</td>\n",
       "    </tr>\n",
       "    <tr>\n",
       "      <td>3</td>\n",
       "      <td>22</td>\n",
       "      <td>F</td>\n",
       "      <td>LOW</td>\n",
       "      <td>LOW</td>\n",
       "      <td>4.5</td>\n",
       "      <td>Pravastatin</td>\n",
       "    </tr>\n",
       "    <tr>\n",
       "      <td>4</td>\n",
       "      <td>32</td>\n",
       "      <td>F</td>\n",
       "      <td>LOW</td>\n",
       "      <td>HIGH</td>\n",
       "      <td>3.7</td>\n",
       "      <td>Cozaar</td>\n",
       "    </tr>\n",
       "  </tbody>\n",
       "</table>\n",
       "</div>"
      ],
      "text/plain": [
       "   Age Sex    BP Cholesterol  Na_to_K         Drug\n",
       "0   56   M  HIGH        HIGH      3.4     Tenormin\n",
       "1   12   M  HIGH         LOW      6.8     Bystolic\n",
       "2   21   F   LOW        HIGH      4.4       Cozaar\n",
       "3   22   F   LOW         LOW      4.5  Pravastatin\n",
       "4   32   F   LOW        HIGH      3.7       Cozaar"
      ]
     },
     "execution_count": 3,
     "metadata": {},
     "output_type": "execute_result"
    }
   ],
   "source": [
    "import numpy as np \n",
    "import pandas as pd\n",
    "from sklearn.tree import DecisionTreeClassifier\n",
    "from sklearn import metrics\n",
    "import matplotlib.pyplot as plt\n",
    "\n",
    "my_data=pd.read_csv(r\"C:\\Users\\RjSaumy\\Downloads\\PBL\\DrugSheet.csv\")\n",
    "my_data[0:5]"
   ]
  },
  {
   "cell_type": "code",
   "execution_count": 4,
   "metadata": {},
   "outputs": [
    {
     "data": {
      "text/plain": [
       "array([[56, 'M', 'HIGH', 'HIGH', 3.4],\n",
       "       [12, 'M', 'HIGH', 'LOW', 6.8],\n",
       "       [21, 'F', 'LOW', 'HIGH', 4.4],\n",
       "       [22, 'F', 'LOW', 'LOW', 4.5],\n",
       "       [32, 'F', 'LOW', 'HIGH', 3.7]], dtype=object)"
      ]
     },
     "execution_count": 4,
     "metadata": {},
     "output_type": "execute_result"
    }
   ],
   "source": [
    "my_data.shape\n",
    "X=my_data[[\"Age\",\"Sex\",\"BP\",\"Cholesterol\",\"Na_to_K\"]].values\n",
    "X[0:5]\n"
   ]
  },
  {
   "cell_type": "code",
   "execution_count": 5,
   "metadata": {},
   "outputs": [
    {
     "data": {
      "text/plain": [
       "array([[56, 1, 0, 0, 3.4],\n",
       "       [12, 1, 0, 1, 6.8],\n",
       "       [21, 0, 1, 0, 4.4],\n",
       "       [22, 0, 1, 1, 4.5],\n",
       "       [32, 0, 1, 0, 3.7]], dtype=object)"
      ]
     },
     "execution_count": 5,
     "metadata": {},
     "output_type": "execute_result"
    }
   ],
   "source": [
    "from sklearn import preprocessing\n",
    "le_sex = preprocessing.LabelEncoder()\n",
    "le_sex.fit(['F','M'])\n",
    "X[:,1] = le_sex.transform(X[:,1]) \n",
    "\n",
    "\n",
    "le_BP = preprocessing.LabelEncoder()\n",
    "le_BP.fit([ 'LOW', 'NORMAL', 'HIGH'])\n",
    "X[:,2] = le_BP.transform(X[:,2])\n",
    "\n",
    "\n",
    "le_Chol = preprocessing.LabelEncoder()\n",
    "le_Chol.fit([ 'LOW','HIGH'])\n",
    "X[:,3] = le_Chol.transform(X[:,3]) \n",
    "\n",
    "X[0:5]"
   ]
  },
  {
   "cell_type": "code",
   "execution_count": 6,
   "metadata": {},
   "outputs": [
    {
     "data": {
      "text/plain": [
       "0                Tenormin\n",
       "1                Bystolic\n",
       "2                  Cozaar\n",
       "3             Pravastatin\n",
       "4                  Cozaar\n",
       "             ...         \n",
       "94              Minoxidil\n",
       "95             Methyldopa\n",
       "96    Hydrochlorothiazide\n",
       "97                Univasc\n",
       "98              Minoxidil\n",
       "Name: Drug, Length: 99, dtype: object"
      ]
     },
     "execution_count": 6,
     "metadata": {},
     "output_type": "execute_result"
    }
   ],
   "source": [
    "y=my_data['Drug']\n",
    "y\n"
   ]
  },
  {
   "cell_type": "code",
   "execution_count": 7,
   "metadata": {},
   "outputs": [
    {
     "name": "stdout",
     "output_type": "stream",
     "text": [
      "Shape of X_trainset:  (79, 5)\n",
      "Shape of y_trainset:  (79,)\n"
     ]
    }
   ],
   "source": [
    "from sklearn.model_selection import train_test_split\n",
    "X_trainset, X_testset, y_trainset, y_testset = train_test_split(X, y, test_size=0.2, random_state=15)\n",
    "print(\"Shape of X_trainset: \",X_trainset.shape)\n",
    "print(\"Shape of y_trainset: \",y_trainset.shape)"
   ]
  },
  {
   "cell_type": "code",
   "execution_count": 8,
   "metadata": {},
   "outputs": [
    {
     "name": "stdout",
     "output_type": "stream",
     "text": [
      "Shape of X_testset:  (20, 5)\n",
      "Shape of y_testset:  (20,)\n"
     ]
    }
   ],
   "source": [
    "print(\"Shape of X_testset: \",X_testset.shape)\n",
    "print(\"Shape of y_testset: \",y_testset.shape)"
   ]
  },
  {
   "cell_type": "code",
   "execution_count": 9,
   "metadata": {},
   "outputs": [
    {
     "data": {
      "text/plain": [
       "DecisionTreeClassifier(class_weight=None, criterion='entropy', max_depth=4,\n",
       "                       max_features=None, max_leaf_nodes=None,\n",
       "                       min_impurity_decrease=0.0, min_impurity_split=None,\n",
       "                       min_samples_leaf=1, min_samples_split=2,\n",
       "                       min_weight_fraction_leaf=0.0, presort=False,\n",
       "                       random_state=None, splitter='best')"
      ]
     },
     "execution_count": 9,
     "metadata": {},
     "output_type": "execute_result"
    }
   ],
   "source": [
    "drugTree = DecisionTreeClassifier(criterion=\"entropy\", max_depth = 4)\n",
    "drugTree # it shows the default parameters"
   ]
  },
  {
   "cell_type": "code",
   "execution_count": 10,
   "metadata": {},
   "outputs": [
    {
     "data": {
      "text/plain": [
       "DecisionTreeClassifier(class_weight=None, criterion='entropy', max_depth=4,\n",
       "                       max_features=None, max_leaf_nodes=None,\n",
       "                       min_impurity_decrease=0.0, min_impurity_split=None,\n",
       "                       min_samples_leaf=1, min_samples_split=2,\n",
       "                       min_weight_fraction_leaf=0.0, presort=False,\n",
       "                       random_state=None, splitter='best')"
      ]
     },
     "execution_count": 10,
     "metadata": {},
     "output_type": "execute_result"
    }
   ],
   "source": [
    "drugTree.fit(X_trainset,y_trainset)"
   ]
  },
  {
   "cell_type": "code",
   "execution_count": 11,
   "metadata": {},
   "outputs": [],
   "source": [
    "predTree=drugTree.predict(X_testset)"
   ]
  },
  {
   "cell_type": "code",
   "execution_count": 12,
   "metadata": {},
   "outputs": [
    {
     "name": "stdout",
     "output_type": "stream",
     "text": [
      "Predictions :  ['Valsartan' 'Pravastatin' 'Zestril' 'Ramipril' 'Coreg' 'Lisinopril'\n",
      " 'Bystolic']\n",
      "Actual Values : \n",
      " 83      Valsartan\n",
      "36    Pravastatin\n",
      "57        Exforge\n",
      "51       Losartan\n",
      "46          Coreg\n",
      "77     Lisinopril\n",
      "92       Bystolic\n",
      "Name: Drug, dtype: object\n"
     ]
    }
   ],
   "source": [
    "print(\"Predictions : \",predTree[0:7])\n",
    "print(\"Actual Values : \\n\",y_testset[0:7])"
   ]
  },
  {
   "cell_type": "code",
   "execution_count": 13,
   "metadata": {},
   "outputs": [
    {
     "name": "stdout",
     "output_type": "stream",
     "text": [
      "DecisionTrees's Accuracy:  0.7\n"
     ]
    }
   ],
   "source": [
    "print(\"DecisionTrees's Accuracy: \", metrics.accuracy_score(y_testset, predTree))"
   ]
  },
  {
   "cell_type": "code",
   "execution_count": 14,
   "metadata": {},
   "outputs": [
    {
     "data": {
      "text/plain": [
       "array(['Coreg', 'Methyldopa'], dtype=object)"
      ]
     },
     "execution_count": 14,
     "metadata": {},
     "output_type": "execute_result"
    }
   ],
   "source": [
    "predTree=drugTree.predict([[12, 1, 0, 0, 5.5],[47, 0, 1, 1, 3.5]])\n",
    "predTree"
   ]
  },
  {
   "cell_type": "code",
   "execution_count": 15,
   "metadata": {},
   "outputs": [
    {
     "name": "stdout",
     "output_type": "stream",
     "text": [
      "Enter Below Details to Get Medicine Name\n",
      "Enter Age in integer32\n",
      "Enter Sex in integer 1 for Male and 0 for Female 2 for other1\n",
      "Enter Blood Pressue in integer 1 for LOW and 0 for HIGH 2 for normal1\n",
      "Enter Cholesterol in integer 1 for LOW and 0 for HIGH 2 for normal0\n",
      "Enter Blood count in integer range between 3.5 to 7.5 as per blood counts for men and women5.5\n",
      "Drug Name : Clonidine\n"
     ]
    }
   ],
   "source": [
    "print(\"Enter Below Details to Get Medicine Name\")\n",
    "age = input(\"Enter Age in integer\")\n",
    "sex = input(\"Enter Sex in integer 1 for Male and 0 for Female 2 for other\")\n",
    "BP = input(\"Enter Blood Pressue in integer 1 for LOW and 0 for HIGH 2 for normal\")\n",
    "col = input(\"Enter Cholesterol in integer 1 for LOW and 0 for HIGH 2 for normal\")\n",
    "NaK = input(\"Enter Blood count in integer range between 3.5 to 7.5 as per blood counts for men and women\")\n",
    "drugname = drugTree.predict([[age, sex, BP, col, NaK]])\n",
    "print(\"Drug Name : \"+ drugname[0])"
   ]
  },
  {
   "cell_type": "code",
   "execution_count": 16,
   "metadata": {},
   "outputs": [
    {
     "data": {
      "text/plain": [
       "12"
      ]
     },
     "execution_count": 16,
     "metadata": {},
     "output_type": "execute_result"
    }
   ],
   "source": [
    "12\n"
   ]
  }
 ],
 "metadata": {
  "kernelspec": {
   "display_name": "Python 3",
   "language": "python",
   "name": "python3"
  },
  "language_info": {
   "codemirror_mode": {
    "name": "ipython",
    "version": 3
   },
   "file_extension": ".py",
   "mimetype": "text/x-python",
   "name": "python",
   "nbconvert_exporter": "python",
   "pygments_lexer": "ipython3",
   "version": "3.7.4"
  }
 },
 "nbformat": 4,
 "nbformat_minor": 2
}
